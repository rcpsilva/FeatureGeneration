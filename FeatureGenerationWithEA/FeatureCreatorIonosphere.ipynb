{
 "cells": [
  {
   "cell_type": "code",
   "execution_count": 1,
   "metadata": {},
   "outputs": [],
   "source": [
    "import feature_creator as fc\n",
    "import pandas as pd\n",
    "import xgboost as xgb\n",
    "from xgboost.sklearn import XGBClassifier,XGBRegressor\n",
    "from sklearn.model_selection import train_test_split,StratifiedShuffleSplit,cross_val_score\n",
    "from sklearn.base import clone\n",
    "from sklearn.tree import DecisionTreeRegressor, DecisionTreeClassifier\n",
    "from sklearn.ensemble import RandomForestRegressor\n",
    "import numpy as np\n",
    "from copy import copy\n",
    "from sklearn import preprocessing\n",
    "from sklearn.linear_model import LogisticRegression"
   ]
  },
  {
   "cell_type": "code",
   "execution_count": 2,
   "metadata": {},
   "outputs": [
    {
     "name": "stdout",
     "output_type": "stream",
     "text": [
      "(351, 34)\n",
      "(351,)\n"
     ]
    }
   ],
   "source": [
    "df = pd.read_csv('ionosphere_data.csv')\n",
    "X = df.drop(columns=['column_ai']).to_numpy()\n",
    "y = df['column_ai'].to_numpy()\n",
    "\n",
    "X = preprocessing.normalize(X)\n",
    "print(X.shape)\n",
    "print(y.shape)"
   ]
  },
  {
   "cell_type": "code",
   "execution_count": 3,
   "metadata": {},
   "outputs": [],
   "source": [
    "model =  LogisticRegression() #XGBClassifier()\n",
    "feature_model = RandomForestRegressor(max_depth=3)"
   ]
  },
  {
   "cell_type": "code",
   "execution_count": 4,
   "metadata": {},
   "outputs": [
    {
     "data": {
      "text/plain": [
       "0.9225773424481633"
      ]
     },
     "execution_count": 4,
     "metadata": {},
     "output_type": "execute_result"
    }
   ],
   "source": [
    "#Baseline\n",
    "scores = cross_val_score(model, X, y, cv=10, scoring='f1')\n",
    "np.mean(scores)"
   ]
  },
  {
   "cell_type": "code",
   "execution_count": 5,
   "metadata": {},
   "outputs": [
    {
     "name": "stderr",
     "output_type": "stream",
     "text": [
      "c:\\Users\\rcpsi\\source\\repos\\FeatureGeneration\\feature_creator.py:37: OptimizeWarning: Unknown solver options: xatol, fatol\n",
      "  res = minimize(fitness_function, x0, method='Powell',options=options,bounds=bounds)\n",
      "c:\\Users\\rcpsi\\source\\repos\\FeatureGeneration\\feature_creator.py:37: OptimizeWarning: Unknown solver options: xatol, fatol\n",
      "  res = minimize(fitness_function, x0, method='Powell',options=options,bounds=bounds)\n",
      "c:\\Users\\rcpsi\\source\\repos\\FeatureGeneration\\feature_creator.py:37: OptimizeWarning: Unknown solver options: xatol, fatol\n",
      "  res = minimize(fitness_function, x0, method='Powell',options=options,bounds=bounds)\n",
      "c:\\Users\\rcpsi\\source\\repos\\FeatureGeneration\\feature_creator.py:37: OptimizeWarning: Unknown solver options: xatol, fatol\n",
      "  res = minimize(fitness_function, x0, method='Powell',options=options,bounds=bounds)\n"
     ]
    }
   ],
   "source": [
    "feature_models, results = fc.feature_creator(model,feature_model,X,y,n_features=4,batch_size=50/len(y))"
   ]
  },
  {
   "cell_type": "code",
   "execution_count": 6,
   "metadata": {},
   "outputs": [
    {
     "name": "stdout",
     "output_type": "stream",
     "text": [
      "-0.9168831168831169\n",
      "-0.8219413919413918\n",
      "-0.878095238095238\n",
      "-0.8447058823529412\n"
     ]
    }
   ],
   "source": [
    "for r in results:\n",
    "    print(r.fun)"
   ]
  },
  {
   "cell_type": "code",
   "execution_count": 7,
   "metadata": {},
   "outputs": [],
   "source": [
    "new_X = copy(X)\n",
    "for f in feature_models:\n",
    "    new_X = np.hstack((new_X,np.array([fc.get_feature_values(f,X)]).T))"
   ]
  },
  {
   "cell_type": "code",
   "execution_count": 8,
   "metadata": {},
   "outputs": [
    {
     "name": "stdout",
     "output_type": "stream",
     "text": [
      "(351, 34)\n",
      "(351, 38)\n"
     ]
    }
   ],
   "source": [
    "print(X.shape)\n",
    "print(new_X.shape)"
   ]
  },
  {
   "cell_type": "code",
   "execution_count": 11,
   "metadata": {},
   "outputs": [
    {
     "name": "stdout",
     "output_type": "stream",
     "text": [
      "0.9225773424481633+-0.03703862341024692\n"
     ]
    }
   ],
   "source": [
    "# BaseLine\n",
    "scores = cross_val_score(model, X, y, cv=10, scoring='f1')\n",
    "print(f'{np.mean(scores)}+-{np.std(scores)}')"
   ]
  },
  {
   "cell_type": "code",
   "execution_count": 12,
   "metadata": {},
   "outputs": [
    {
     "name": "stdout",
     "output_type": "stream",
     "text": [
      "0.9404827217350091+-0.043807216736305415\n"
     ]
    }
   ],
   "source": [
    "# Features\n",
    "scores = cross_val_score(model, new_X, y, cv=10, scoring='f1')\n",
    "print(f'{np.mean(scores)}+-{np.std(scores)}')"
   ]
  },
  {
   "cell_type": "code",
   "execution_count": null,
   "metadata": {},
   "outputs": [],
   "source": []
  }
 ],
 "metadata": {
  "kernelspec": {
   "display_name": "Python 3",
   "language": "python",
   "name": "python3"
  },
  "language_info": {
   "codemirror_mode": {
    "name": "ipython",
    "version": 3
   },
   "file_extension": ".py",
   "mimetype": "text/x-python",
   "name": "python",
   "nbconvert_exporter": "python",
   "pygments_lexer": "ipython3",
   "version": "3.11.1"
  },
  "orig_nbformat": 4,
  "vscode": {
   "interpreter": {
    "hash": "738f0abc388fde32d91a23dc48b434080bb97b14dd548d1e86272d1e373043ae"
   }
  }
 },
 "nbformat": 4,
 "nbformat_minor": 2
}
