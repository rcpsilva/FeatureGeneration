{
 "cells": [
  {
   "cell_type": "code",
   "execution_count": 1,
   "metadata": {},
   "outputs": [],
   "source": [
    "import feature_creator as fc\n",
    "import pandas as pd\n",
    "import xgboost as xgb\n",
    "from xgboost.sklearn import XGBClassifier,XGBRegressor\n",
    "from sklearn.model_selection import train_test_split,StratifiedShuffleSplit,cross_val_score\n",
    "from sklearn.base import clone\n",
    "from sklearn.tree import DecisionTreeRegressor, DecisionTreeClassifier\n",
    "from sklearn.ensemble import RandomForestRegressor\n",
    "import numpy as np\n",
    "from copy import copy\n",
    "from sklearn import preprocessing"
   ]
  },
  {
   "attachments": {},
   "cell_type": "markdown",
   "metadata": {},
   "source": [
    "## Get data"
   ]
  },
  {
   "cell_type": "code",
   "execution_count": 2,
   "metadata": {},
   "outputs": [
    {
     "name": "stdout",
     "output_type": "stream",
     "text": [
      "(80, 44)\n",
      "(80,)\n"
     ]
    }
   ],
   "source": [
    "df = pd.read_csv('spect_train.csv')\n",
    "X = df.drop(columns=['OVERALL_DIAGNOSIS']).to_numpy()\n",
    "y = df['OVERALL_DIAGNOSIS'].to_numpy()\n",
    "\n",
    "X = preprocessing.normalize(X)\n",
    "print(X.shape)\n",
    "print(y.shape)"
   ]
  },
  {
   "attachments": {},
   "cell_type": "markdown",
   "metadata": {},
   "source": [
    "## Define Classifiers"
   ]
  },
  {
   "cell_type": "code",
   "execution_count": 3,
   "metadata": {},
   "outputs": [],
   "source": [
    "model =  XGBClassifier()\n",
    "feature_model = DecisionTreeRegressor(max_depth=5)"
   ]
  },
  {
   "cell_type": "code",
   "execution_count": 4,
   "metadata": {},
   "outputs": [
    {
     "data": {
      "text/plain": [
       "0.6780952380952381"
      ]
     },
     "execution_count": 4,
     "metadata": {},
     "output_type": "execute_result"
    }
   ],
   "source": [
    "#Baseline\n",
    "scores = cross_val_score(model, X, y, cv=10, scoring='f1')\n",
    "np.mean(scores)"
   ]
  },
  {
   "attachments": {},
   "cell_type": "markdown",
   "metadata": {},
   "source": [
    "## Run Feature Creator"
   ]
  },
  {
   "cell_type": "code",
   "execution_count": 5,
   "metadata": {},
   "outputs": [],
   "source": [
    "feature_models, ga_fitness = fc.feature_creator(model,feature_model,X,y,n_features=2,batch_size=0.5)"
   ]
  },
  {
   "attachments": {},
   "cell_type": "markdown",
   "metadata": {},
   "source": [
    "## Results"
   ]
  },
  {
   "cell_type": "code",
   "execution_count": 6,
   "metadata": {},
   "outputs": [],
   "source": [
    "new_X = copy(X)\n",
    "for f in feature_models:\n",
    "    new_X = np.hstack((new_X,np.array([fc.get_feature_values(f,X)]).T))"
   ]
  },
  {
   "cell_type": "code",
   "execution_count": 7,
   "metadata": {},
   "outputs": [
    {
     "name": "stdout",
     "output_type": "stream",
     "text": [
      "(80, 46)\n",
      "(80, 44)\n"
     ]
    }
   ],
   "source": [
    "print(new_X.shape)\n",
    "print(X.shape)"
   ]
  },
  {
   "cell_type": "code",
   "execution_count": 8,
   "metadata": {},
   "outputs": [
    {
     "data": {
      "text/plain": [
       "array([[0.135887  , 0.11976481, 0.16122186, ..., 0.15431235, 0.2246454 ,\n",
       "        0.20040661],\n",
       "       [0.15591649, 0.13426142, 0.14941997, ..., 0.12559939, 0.11799481,\n",
       "        0.20040661],\n",
       "       [0.16373405, 0.14297903, 0.16142794, ..., 0.10608121, 0.41876183,\n",
       "        0.23006022],\n",
       "       ...,\n",
       "       [0.14701894, 0.140436  , 0.16018481, ..., 0.14921325, 0.89131975,\n",
       "        0.20040661],\n",
       "       [0.1524338 , 0.14570878, 0.1614005 , ..., 0.09863364, 0.67591099,\n",
       "        0.17632061],\n",
       "       [0.14780643, 0.12093254, 0.15452491, ..., 0.13212999, 0.15145097,\n",
       "        0.20040661]])"
      ]
     },
     "execution_count": 8,
     "metadata": {},
     "output_type": "execute_result"
    }
   ],
   "source": [
    "new_X"
   ]
  },
  {
   "cell_type": "code",
   "execution_count": 9,
   "metadata": {},
   "outputs": [
    {
     "data": {
      "text/plain": [
       "array([[0.135887  , 0.11976481, 0.16122186, ..., 0.17043454, 0.14740285,\n",
       "        0.15431235],\n",
       "       [0.15591649, 0.13426142, 0.14941997, ..., 0.15375098, 0.12126838,\n",
       "        0.12559939],\n",
       "       [0.16373405, 0.14297903, 0.16142794, ..., 0.09455065, 0.11761178,\n",
       "        0.10608121],\n",
       "       ...,\n",
       "       [0.14701894, 0.140436  , 0.16018481, ..., 0.175545  , 0.14701894,\n",
       "        0.14921325],\n",
       "       [0.1524338 , 0.14570878, 0.1614005 , ..., 0.12553372, 0.13001707,\n",
       "        0.09863364],\n",
       "       [0.14780643, 0.12093254, 0.15452491, ..., 0.15228542, 0.13212999,\n",
       "        0.13212999]])"
      ]
     },
     "execution_count": 9,
     "metadata": {},
     "output_type": "execute_result"
    }
   ],
   "source": [
    "X"
   ]
  },
  {
   "cell_type": "code",
   "execution_count": 10,
   "metadata": {},
   "outputs": [
    {
     "name": "stdout",
     "output_type": "stream",
     "text": [
      "0.6780952380952381+-0.19253588763451576\n"
     ]
    }
   ],
   "source": [
    "scores = cross_val_score(model, X, y, cv=10, scoring='f1')\n",
    "print(f'{np.mean(scores)}+-{np.std(scores)}')"
   ]
  },
  {
   "cell_type": "code",
   "execution_count": 11,
   "metadata": {},
   "outputs": [
    {
     "name": "stdout",
     "output_type": "stream",
     "text": [
      "0.672936507936508+-0.19436326455691535\n"
     ]
    }
   ],
   "source": [
    "scores = cross_val_score(model, new_X, y, cv=10, scoring='f1')\n",
    "print(f'{np.mean(scores)}+-{np.std(scores)}')"
   ]
  },
  {
   "cell_type": "code",
   "execution_count": null,
   "metadata": {},
   "outputs": [],
   "source": []
  }
 ],
 "metadata": {
  "kernelspec": {
   "display_name": "Python 3",
   "language": "python",
   "name": "python3"
  },
  "language_info": {
   "codemirror_mode": {
    "name": "ipython",
    "version": 3
   },
   "file_extension": ".py",
   "mimetype": "text/x-python",
   "name": "python",
   "nbconvert_exporter": "python",
   "pygments_lexer": "ipython3",
   "version": "3.10.0"
  },
  "orig_nbformat": 4,
  "vscode": {
   "interpreter": {
    "hash": "960c53438d19dd0eccb5b0fb2b7bbc5735ec1f50cd2fb9fbee49128b4ab11315"
   }
  }
 },
 "nbformat": 4,
 "nbformat_minor": 2
}
